{
 "cells": [
  {
   "cell_type": "code",
   "execution_count": 1,
   "id": "b2e34c5b",
   "metadata": {},
   "outputs": [],
   "source": [
    "import tensorflow as tf\n",
    "import tensorflow.keras as keras\n"
   ]
  },
  {
   "cell_type": "code",
   "execution_count": 2,
   "id": "6b1d0726",
   "metadata": {},
   "outputs": [],
   "source": [
    "import matplotlib.pyplot as plt\n",
    "import seaborn as sn\n",
    "import numpy as np"
   ]
  },
  {
   "cell_type": "code",
   "execution_count": 3,
   "id": "16e52e06",
   "metadata": {},
   "outputs": [],
   "source": [
    "(x_train,y_train),(x_test,y_test) = keras.datasets.cifar10.load_data()"
   ]
  },
  {
   "cell_type": "code",
   "execution_count": 4,
   "id": "2fba2f8a",
   "metadata": {},
   "outputs": [
    {
     "data": {
      "text/plain": [
       "(50000, 32, 32, 3)"
      ]
     },
     "execution_count": 4,
     "metadata": {},
     "output_type": "execute_result"
    }
   ],
   "source": [
    "x_train.shape"
   ]
  },
  {
   "cell_type": "code",
   "execution_count": 5,
   "id": "1488481d",
   "metadata": {},
   "outputs": [],
   "source": [
    "def plot_img(index):\n",
    "    plt.imshow(x_train[index])"
   ]
  },
  {
   "cell_type": "code",
   "execution_count": 6,
   "id": "fdd4d16c",
   "metadata": {},
   "outputs": [
    {
     "data": {
      "text/plain": [
       "array([[6],\n",
       "       [9],\n",
       "       [9],\n",
       "       [4]], dtype=uint8)"
      ]
     },
     "execution_count": 6,
     "metadata": {},
     "output_type": "execute_result"
    }
   ],
   "source": [
    "y_train[:4]"
   ]
  },
  {
   "cell_type": "code",
   "execution_count": 7,
   "id": "6285763c",
   "metadata": {},
   "outputs": [
    {
     "data": {
      "image/png": "[encoded data removed]",
      "text/plain": [
       "<Figure size 432x288 with 1 Axes>"
      ]
     },
     "metadata": {
      "needs_background": "light"
     },
     "output_type": "display_data"
    }
   ],
   "source": [
    "plot_img(6)"
   ]
  },
  {
   "cell_type": "code",
   "execution_count": 8,
   "id": "f92b1863",
   "metadata": {},
   "outputs": [],
   "source": [
    "x_train_scaled = x_train/255\n",
    "x_test_scaled = x_test/255"
   ]
  },
  {
   "cell_type": "markdown",
   "id": "3095ac14",
   "metadata": {},
   "source": [
    "# DEVELOPING A MODEL USING SPARSE CATEGORICAL LOSS"
   ]
  },
  {
   "cell_type": "code",
   "execution_count": 9,
   "id": "33862699",
   "metadata": {},
   "outputs": [],
   "source": [
    "model = keras.Sequential([keras.layers.Flatten(input_shape = (32, 32, 3)),keras.layers.Dense(1000,activation='relu'),\n",
    "                          keras.layers.Dense(100,activation='relu'),keras.layers.Dense(10,activation='sigmoid')])"
   ]
  },
  {
   "cell_type": "code",
   "execution_count": 22,
   "id": "fc9eba04",
   "metadata": {},
   "outputs": [],
   "source": [
    "model.compile(optimizer = keras.optimizers.Adam(),loss = 'sparse_categorical_crossentropy',metrics=['accuracy'])"
   ]
  },
  {
   "cell_type": "code",
   "execution_count": 23,
   "id": "fe4f2836",
   "metadata": {},
   "outputs": [
    {
     "name": "stdout",
     "output_type": "stream",
     "text": [
      "1563/1563 [==============================] - 108s 66ms/step - loss: 1.4863 - accuracy: 0.4694\n"
     ]
    },
    {
     "data": {
      "text/plain": [
       "<keras.callbacks.History at 0x293e6a19520>"
      ]
     },
     "execution_count": 23,
     "metadata": {},
     "output_type": "execute_result"
    }
   ],
   "source": [
    "model.fit(x_train_scaled,y_train,epochs = 1)"
   ]
  },
  {
   "cell_type": "code",
   "execution_count": 26,
   "id": "b6df7fab",
   "metadata": {},
   "outputs": [
    {
     "data": {
      "text/plain": [
       "(32, 32, 3)"
      ]
     },
     "execution_count": 26,
     "metadata": {},
     "output_type": "execute_result"
    }
   ],
   "source": [
    "x_test_scaled[0].shape"
   ]
  },
  {
   "cell_type": "code",
   "execution_count": 36,
   "id": "bf50c4c6",
   "metadata": {},
   "outputs": [
    {
     "data": {
      "image/png": "[encoded data removed]",
      "text/plain": [
       "<Figure size 432x288 with 1 Axes>"
      ]
     },
     "metadata": {
      "needs_background": "light"
     },
     "output_type": "display_data"
    }
   ],
   "source": [
    "prediction_index = np.argmax(model.predict(x_test_scaled[:5])[3])\n",
    "plot_img(prediction_index)"
   ]
  },
  {
   "cell_type": "markdown",
   "id": "ab0a537e",
   "metadata": {},
   "source": [
    "# DEVELOPING A MODEL USING CATEGORICAL CROSS ENTROPY"
   ]
  },
  {
   "cell_type": "code",
   "execution_count": 42,
   "id": "6253928a",
   "metadata": {},
   "outputs": [],
   "source": [
    "new_y_train = keras.utils.to_categorical(y_train,num_classes = 10,dtype='float32')"
   ]
  },
  {
   "cell_type": "code",
   "execution_count": 43,
   "id": "8e88c1f8",
   "metadata": {},
   "outputs": [
    {
     "data": {
      "text/plain": [
       "array([[0., 0., 0., ..., 0., 0., 0.],\n",
       "       [0., 0., 0., ..., 0., 0., 1.],\n",
       "       [0., 0., 0., ..., 0., 0., 1.],\n",
       "       ...,\n",
       "       [0., 0., 0., ..., 0., 0., 1.],\n",
       "       [0., 1., 0., ..., 0., 0., 0.],\n",
       "       [0., 1., 0., ..., 0., 0., 0.]], dtype=float32)"
      ]
     },
     "execution_count": 43,
     "metadata": {},
     "output_type": "execute_result"
    }
   ],
   "source": [
    "new_y_train"
   ]
  },
  {
   "cell_type": "code",
   "execution_count": 44,
   "id": "2890f2bf",
   "metadata": {},
   "outputs": [],
   "source": [
    "new_model = keras.Sequential([keras.layers.Flatten(input_shape = (32, 32, 3)),keras.layers.Dense(1000,activation='relu'),keras.layers.Dense(100,activation='relu'),keras.layers.Dense(10,activation='sigmoid')]) "
   ]
  },
  {
   "cell_type": "code",
   "execution_count": 49,
   "id": "adb36284",
   "metadata": {},
   "outputs": [],
   "source": [
    "new_model.compile(optimizer = keras.optimizers.Adam(),loss = 'categorical_crossentropy',metrics=['accuracy','AUC','MeanSquaredError'])"
   ]
  },
  {
   "cell_type": "code",
   "execution_count": 50,
   "id": "206072ec",
   "metadata": {},
   "outputs": [
    {
     "name": "stdout",
     "output_type": "stream",
     "text": [
      "Epoch 1/2\n",
      "1563/1563 [==============================] - 112s 68ms/step - loss: 2.1401 - accuracy: 0.1735 - auc: 0.6827 - mean_squared_error: 0.25726s - loss: 2.1454 - accuracy: 0.1716 - auc: 0.68 - ETA: 4s - loss: 2.1441 - accuracy: 0.1720 - auc:  - ETA: 2s - loss: 2.1422 - accuracy: 0.1728 - auc: \n",
      "Epoch 2/2\n",
      "1563/1563 [==============================] - 110s 70ms/step - loss: 1.9048 - accuracy: 0.2837 - auc: 0.7551 - mean_squared_error: 0.26886s - loss: 1.9109 - accuracy: 0.2803 - auc: 0.7531 - mean_squared_error:  - ETA: 6s - loss: 1.9103 - accuracy: 0.2807 - auc: 0.7532 - mean_squared_e - ETA: 5s - ETA: 0s - loss: 1.9047 - accuracy: 0.2837 - auc: 0.7551 - mean_squared_error: 0.2\n"
     ]
    },
    {
     "data": {
      "text/plain": [
       "<keras.callbacks.History at 0x293e715eb20>"
      ]
     },
     "execution_count": 50,
     "metadata": {},
     "output_type": "execute_result"
    }
   ],
   "source": [
    "new_model.fit(x_train_scaled,new_y_train,epochs = 2)"
   ]
  },
  {
   "cell_type": "code",
   "execution_count": 71,
   "id": "3cad3bd9",
   "metadata": {},
   "outputs": [
    {
     "name": "stdout",
     "output_type": "stream",
     "text": [
      "8\n",
      "203 ms ± 0 ns per loop (mean ± std. dev. of 1 run, 1 loop each)\n"
     ]
    }
   ],
   "source": [
    "\n",
    "%%timeit -n1 -r1\n",
    "r = np.argmax(new_model.predict(x_test_scaled[:5])[1])\n",
    "print(r)"
   ]
  },
  {
   "cell_type": "code",
   "execution_count": 66,
   "id": "e3c8a352",
   "metadata": {},
   "outputs": [
    {
     "data": {
      "text/plain": [
       "8"
      ]
     },
     "execution_count": 66,
     "metadata": {},
     "output_type": "execute_result"
    }
   ],
   "source": []
  },
  {
   "cell_type": "code",
   "execution_count": null,
   "id": "b40215f9",
   "metadata": {},
   "outputs": [],
   "source": []
  }
 ],
 "metadata": {
  "kernelspec": {
   "display_name": "Python 3",
   "language": "python",
   "name": "python3"
  },
  "language_info": {
   "codemirror_mode": {
    "name": "ipython",
    "version": 3
   },
   "file_extension": ".py",
   "mimetype": "text/x-python",
   "name": "python",
   "nbconvert_exporter": "python",
   "pygments_lexer": "ipython3",
   "version": "3.8.8"
  }
 },
 "nbformat": 4,
 "nbformat_minor": 5
}
